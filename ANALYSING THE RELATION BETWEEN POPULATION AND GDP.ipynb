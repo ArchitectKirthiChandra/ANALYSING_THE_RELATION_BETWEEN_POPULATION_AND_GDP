{
 "cells": [
  {
   "attachments": {},
   "cell_type": "markdown",
   "id": "22fa4c97",
   "metadata": {},
   "source": [
    "# <font color='#000000'>ANALYSING THE RELATION BETWEEN POPULATION AND GDP<font><a class='anchor' id='top'></a>"
   ]
  },
  {
   "cell_type": "markdown",
   "id": "8b3b8956",
   "metadata": {},
   "source": [
    "### Table of Contents\n",
    "    \n",
    "* [1. Aim](#chapter1)\n",
    "\n",
    "* [2. Data Health Review](#chapter2)\n",
    "\t* [2.1 Importing Libraries](#chapter2.1)\n",
    "\t* [2.2 Importing the Data](#chapter2.2)\n",
    "\t* [2.3 Data Cleaning and Preprocessing](#chapter2.3)\n",
    "    * [2.4 Data Statistical Summary](#chapter2.4)\n",
    "\n",
    "* [3. Exploratory Data Analysis](#chapter3)\n",
    "\t* [3.1 Data Frequency Understanding](#chapter3.1)\n",
    "\t* [3.2 Univariate Analysis](#chapter3.2)\n",
    "        * [3.2.1 Treatment of Outliers](#chapter3.2.1)\n",
    "\t* [3.3 Bivariate Analysis](#chapter3.3)\n",
    "\t\n",
    "* [4. Spliting the data and Fitting the Model](#chapter4)\n",
    "\t* [4.1 Converting Categorical Variables as Binary Vectors](#chapter4.1)\n",
    "\t* [4.2 Spliting the Data](#chapter4.2)\n",
    "    * [4.3 Fitting the Linear Regression algorithm in model](#chapter4.3)\n",
    "    \n",
    "\n",
    "* [5. Reading Using Metrics](#chapter5)\n",
    "\t* [5.1 Reading using SKLearn Metrics](#chapter5.1)\n",
    "\t* [5.2 Reading using Statsmodel Metrics](#chapter5.2)\n",
    "\n",
    "* [6. Conclusion](#chapter6)"
   ]
  },
  {
   "cell_type": "markdown",
   "id": "680fd689",
   "metadata": {},
   "source": [
    "## 1. Aim  <a class=\"anchor\" id=\"chapter1\"></a>\n",
    "\n",
    "**Aim**\n",
    "\n",
    "The aim of analyzing the relation between population and GDP using a linear regression model is to gain a deeper understanding of how changes in population size relate to changes in the economic output of a country or region.\n",
    "\n",
    "**Understanding**\n",
    "\n",
    "By employing a linear regression model to examine the relationship between population and GDP, we can quantify the extent to which changes in population contribute to variations in GDP. The model allows us to determine the direction (positive or negative) and strength of the relationship, as well as estimate the magnitude of the effect. This understanding can help in making informed decisions and predictions about economic growth, resource allocation, and policy planning, among other areas.academic outcomes."
   ]
  },
  {
   "cell_type": "markdown",
   "id": "2e810348",
   "metadata": {},
   "source": [
    "**IMF GDP** is calculated by the International Monetary Fund (IMF) by adding up the value of all final goods and services produced in a country in a given year.\n",
    "\n",
    "**UN GDP** is calculate Data Survey on Professional, by the United Nations (UN), includes the value of non-market goods and services, such as unpaid household work.\n",
    "\n",
    "**GDP per capita** of a country divided by its population. It is a measure of the average income of the people in a country.\n"
   ]
  },
  {
   "cell_type": "markdown",
   "id": "d080b778",
   "metadata": {},
   "source": [
    "## 2. Data Health Review <a class=\"anchor\" id=\"chapter2\"></a>"
   ]
  },
  {
   "cell_type": "markdown",
   "id": "e18a6bb1",
   "metadata": {},
   "source": [
    "## 2.1 Importing Libraries <a class=\"anchor\" id=\"chapter2.1\"></a>"
   ]
  },
  {
   "cell_type": "code",
   "execution_count": 94,
   "id": "395d1715",
   "metadata": {},
   "outputs": [],
   "source": [
    "import pandas as pd\n",
    "import numpy as np\n",
    "\n",
    "import warnings\n",
    "warnings.filterwarnings('ignore')\n",
    "\n",
    "import matplotlib.pyplot as plt\n",
    "import seaborn as sns\n",
    "\n",
    "from sklearn.model_selection import train_test_split\n",
    "from sklearn.linear_model import LinearRegression\n",
    "from sklearn.metrics import r2_score,mean_squared_error\n",
    "import statsmodels.formula.api as smf\n"
   ]
  },
  {
   "cell_type": "markdown",
   "id": "052c2c5b",
   "metadata": {},
   "source": [
    "## 2.2 Importing the Data <a class=\"anchor\" id=\"chapter2.2\"></a>"
   ]
  },
  {
   "cell_type": "code",
   "execution_count": 95,
   "id": "6797f6e7",
   "metadata": {
    "scrolled": true
   },
   "outputs": [
    {
     "data": {
      "text/html": [
       "<div>\n",
       "<style scoped>\n",
       "    .dataframe tbody tr th:only-of-type {\n",
       "        vertical-align: middle;\n",
       "    }\n",
       "\n",
       "    .dataframe tbody tr th {\n",
       "        vertical-align: top;\n",
       "    }\n",
       "\n",
       "    .dataframe thead th {\n",
       "        text-align: right;\n",
       "    }\n",
       "</style>\n",
       "<table border=\"1\" class=\"dataframe\">\n",
       "  <thead>\n",
       "    <tr style=\"text-align: right;\">\n",
       "      <th></th>\n",
       "      <th>0</th>\n",
       "      <th>1</th>\n",
       "      <th>2</th>\n",
       "    </tr>\n",
       "  </thead>\n",
       "  <tbody>\n",
       "    <tr>\n",
       "      <th>Rank</th>\n",
       "      <td>1</td>\n",
       "      <td>2</td>\n",
       "      <td>3</td>\n",
       "    </tr>\n",
       "    <tr>\n",
       "      <th>ID</th>\n",
       "      <td>840</td>\n",
       "      <td>156</td>\n",
       "      <td>392</td>\n",
       "    </tr>\n",
       "    <tr>\n",
       "      <th>Country</th>\n",
       "      <td>United States</td>\n",
       "      <td>China</td>\n",
       "      <td>Japan</td>\n",
       "    </tr>\n",
       "    <tr>\n",
       "      <th>Continent</th>\n",
       "      <td>North America</td>\n",
       "      <td>Asia</td>\n",
       "      <td>Asia</td>\n",
       "    </tr>\n",
       "    <tr>\n",
       "      <th>Population</th>\n",
       "      <td>339996.56</td>\n",
       "      <td>1425671.35</td>\n",
       "      <td>123294.51</td>\n",
       "    </tr>\n",
       "    <tr>\n",
       "      <th>IMF_GDP</th>\n",
       "      <td>26695150000000.0</td>\n",
       "      <td>21865482000000.0</td>\n",
       "      <td>5291351000000.0</td>\n",
       "    </tr>\n",
       "    <tr>\n",
       "      <th>UN_GDP</th>\n",
       "      <td>18624475000000.0</td>\n",
       "      <td>11218281029298.0</td>\n",
       "      <td>4936211827875.0</td>\n",
       "    </tr>\n",
       "    <tr>\n",
       "      <th>GDP_per_capita</th>\n",
       "      <td>78515.94</td>\n",
       "      <td>15336.97</td>\n",
       "      <td>42916.35</td>\n",
       "    </tr>\n",
       "  </tbody>\n",
       "</table>\n",
       "</div>"
      ],
      "text/plain": [
       "                               0                 1                2\n",
       "Rank                           1                 2                3\n",
       "ID                           840               156              392\n",
       "Country            United States             China            Japan\n",
       "Continent          North America              Asia             Asia\n",
       "Population             339996.56        1425671.35        123294.51\n",
       "IMF_GDP         26695150000000.0  21865482000000.0  5291351000000.0\n",
       "UN_GDP          18624475000000.0  11218281029298.0  4936211827875.0\n",
       "GDP_per_capita          78515.94          15336.97         42916.35"
      ]
     },
     "execution_count": 95,
     "metadata": {},
     "output_type": "execute_result"
    }
   ],
   "source": [
    "df = pd.read_csv('countries.csv')\n",
    "df.head(3).T"
   ]
  },
  {
   "cell_type": "markdown",
   "id": "d2798eb4",
   "metadata": {},
   "source": [
    "## 2.3 Data Cleaning and Preprocessing <a class=\"anchor\" id=\"chapter2.3\"></a>"
   ]
  },
  {
   "cell_type": "code",
   "execution_count": 96,
   "id": "b227bb4b",
   "metadata": {},
   "outputs": [
    {
     "data": {
      "text/plain": [
       "0"
      ]
     },
     "execution_count": 96,
     "metadata": {},
     "output_type": "execute_result"
    }
   ],
   "source": [
    "df.duplicated().sum()"
   ]
  },
  {
   "cell_type": "code",
   "execution_count": 97,
   "id": "84bf818e",
   "metadata": {},
   "outputs": [
    {
     "name": "stdout",
     "output_type": "stream",
     "text": [
      "<class 'pandas.core.frame.DataFrame'>\n",
      "RangeIndex: 212 entries, 0 to 211\n",
      "Data columns (total 8 columns):\n",
      " #   Column          Non-Null Count  Dtype  \n",
      "---  ------          --------------  -----  \n",
      " 0   Rank            212 non-null    int64  \n",
      " 1   ID              212 non-null    int64  \n",
      " 2   Country         212 non-null    object \n",
      " 3   Continent       212 non-null    object \n",
      " 4   Population      212 non-null    float64\n",
      " 5   IMF_GDP         212 non-null    float64\n",
      " 6   UN_GDP          212 non-null    float64\n",
      " 7   GDP_per_capita  212 non-null    float64\n",
      "dtypes: float64(4), int64(2), object(2)\n",
      "memory usage: 13.4+ KB\n"
     ]
    }
   ],
   "source": [
    "df.info()"
   ]
  },
  {
   "cell_type": "code",
   "execution_count": 98,
   "id": "726c8951",
   "metadata": {},
   "outputs": [
    {
     "data": {
      "text/plain": [
       "212"
      ]
     },
     "execution_count": 98,
     "metadata": {},
     "output_type": "execute_result"
    }
   ],
   "source": [
    "df.ID.nunique()"
   ]
  },
  {
   "cell_type": "code",
   "execution_count": 99,
   "id": "35e5f883",
   "metadata": {},
   "outputs": [
    {
     "data": {
      "text/plain": [
       "212"
      ]
     },
     "execution_count": 99,
     "metadata": {},
     "output_type": "execute_result"
    }
   ],
   "source": [
    "df.Rank.nunique()"
   ]
  },
  {
   "cell_type": "code",
   "execution_count": 100,
   "id": "32c424de",
   "metadata": {},
   "outputs": [
    {
     "data": {
      "text/plain": [
       "212"
      ]
     },
     "execution_count": 100,
     "metadata": {},
     "output_type": "execute_result"
    }
   ],
   "source": [
    "df.Country.nunique()"
   ]
  },
  {
   "cell_type": "code",
   "execution_count": 101,
   "id": "b07a63e2",
   "metadata": {},
   "outputs": [
    {
     "data": {
      "text/plain": [
       "6"
      ]
     },
     "execution_count": 101,
     "metadata": {},
     "output_type": "execute_result"
    }
   ],
   "source": [
    "df.Continent.nunique()"
   ]
  },
  {
   "cell_type": "markdown",
   "id": "1b574186",
   "metadata": {},
   "source": [
    "#### Removing Rank and ID column as they are redundent"
   ]
  },
  {
   "cell_type": "code",
   "execution_count": 102,
   "id": "98312338",
   "metadata": {},
   "outputs": [],
   "source": [
    "df.drop(columns = ['Rank','ID','Country'],inplace = True)"
   ]
  },
  {
   "cell_type": "code",
   "execution_count": 103,
   "id": "0d5d00ca",
   "metadata": {},
   "outputs": [
    {
     "data": {
      "text/plain": [
       "Continent         0\n",
       "Population        0\n",
       "IMF_GDP           0\n",
       "UN_GDP            0\n",
       "GDP_per_capita    0\n",
       "dtype: int64"
      ]
     },
     "execution_count": 103,
     "metadata": {},
     "output_type": "execute_result"
    }
   ],
   "source": [
    "df.isnull().sum()"
   ]
  },
  {
   "cell_type": "code",
   "execution_count": null,
   "id": "e84399eb",
   "metadata": {},
   "outputs": [],
   "source": []
  },
  {
   "cell_type": "markdown",
   "id": "a30c6cc8",
   "metadata": {},
   "source": [
    "## 2.4 Data Statistical Summary <a class=\"anchor\" id=\"chapter2.4\"></a>"
   ]
  },
  {
   "cell_type": "markdown",
   "id": "347ad8db",
   "metadata": {},
   "source": [
    "#### Understanding the Statistical summary of Object and numeric data"
   ]
  },
  {
   "cell_type": "code",
   "execution_count": 104,
   "id": "b4306c00",
   "metadata": {},
   "outputs": [
    {
     "data": {
      "text/html": [
       "<div>\n",
       "<style scoped>\n",
       "    .dataframe tbody tr th:only-of-type {\n",
       "        vertical-align: middle;\n",
       "    }\n",
       "\n",
       "    .dataframe tbody tr th {\n",
       "        vertical-align: top;\n",
       "    }\n",
       "\n",
       "    .dataframe thead th {\n",
       "        text-align: right;\n",
       "    }\n",
       "</style>\n",
       "<table border=\"1\" class=\"dataframe\">\n",
       "  <thead>\n",
       "    <tr style=\"text-align: right;\">\n",
       "      <th></th>\n",
       "      <th>Continent</th>\n",
       "      <th>Population</th>\n",
       "      <th>IMF_GDP</th>\n",
       "      <th>UN_GDP</th>\n",
       "      <th>GDP_per_capita</th>\n",
       "    </tr>\n",
       "  </thead>\n",
       "  <tbody>\n",
       "    <tr>\n",
       "      <th>mean</th>\n",
       "      <td>NaN</td>\n",
       "      <td>37931.693726</td>\n",
       "      <td>5.213021e+11</td>\n",
       "      <td>3.541058e+11</td>\n",
       "      <td>19669.115472</td>\n",
       "    </tr>\n",
       "    <tr>\n",
       "      <th>median</th>\n",
       "      <td>NaN</td>\n",
       "      <td>6967.350000</td>\n",
       "      <td>2.951600e+10</td>\n",
       "      <td>2.128999e+10</td>\n",
       "      <td>7481.425000</td>\n",
       "    </tr>\n",
       "    <tr>\n",
       "      <th>&lt;lambda&gt;</th>\n",
       "      <td>Africa</td>\n",
       "      <td>4.390000</td>\n",
       "      <td>0.000000e+00</td>\n",
       "      <td>0.000000e+00</td>\n",
       "      <td>278.430000</td>\n",
       "    </tr>\n",
       "  </tbody>\n",
       "</table>\n",
       "</div>"
      ],
      "text/plain": [
       "         Continent    Population       IMF_GDP        UN_GDP  GDP_per_capita\n",
       "mean           NaN  37931.693726  5.213021e+11  3.541058e+11    19669.115472\n",
       "median         NaN   6967.350000  2.951600e+10  2.128999e+10     7481.425000\n",
       "<lambda>    Africa      4.390000  0.000000e+00  0.000000e+00      278.430000"
      ]
     },
     "execution_count": 104,
     "metadata": {},
     "output_type": "execute_result"
    }
   ],
   "source": [
    "df.agg({'mean', 'median', lambda x: x.mode().iloc[0]})"
   ]
  },
  {
   "cell_type": "code",
   "execution_count": 105,
   "id": "5779e5e8",
   "metadata": {},
   "outputs": [
    {
     "data": {
      "text/html": [
       "<div>\n",
       "<style scoped>\n",
       "    .dataframe tbody tr th:only-of-type {\n",
       "        vertical-align: middle;\n",
       "    }\n",
       "\n",
       "    .dataframe tbody tr th {\n",
       "        vertical-align: top;\n",
       "    }\n",
       "\n",
       "    .dataframe thead th {\n",
       "        text-align: right;\n",
       "    }\n",
       "</style>\n",
       "<table border=\"1\" class=\"dataframe\">\n",
       "  <thead>\n",
       "    <tr style=\"text-align: right;\">\n",
       "      <th></th>\n",
       "      <th>Continent</th>\n",
       "      <th>Population</th>\n",
       "      <th>IMF_GDP</th>\n",
       "      <th>UN_GDP</th>\n",
       "      <th>GDP_per_capita</th>\n",
       "    </tr>\n",
       "  </thead>\n",
       "  <tbody>\n",
       "    <tr>\n",
       "      <th>count</th>\n",
       "      <td>212</td>\n",
       "      <td>2.120000e+02</td>\n",
       "      <td>2.120000e+02</td>\n",
       "      <td>2.120000e+02</td>\n",
       "      <td>212.000000</td>\n",
       "    </tr>\n",
       "    <tr>\n",
       "      <th>unique</th>\n",
       "      <td>6</td>\n",
       "      <td>NaN</td>\n",
       "      <td>NaN</td>\n",
       "      <td>NaN</td>\n",
       "      <td>NaN</td>\n",
       "    </tr>\n",
       "    <tr>\n",
       "      <th>top</th>\n",
       "      <td>Africa</td>\n",
       "      <td>NaN</td>\n",
       "      <td>NaN</td>\n",
       "      <td>NaN</td>\n",
       "      <td>NaN</td>\n",
       "    </tr>\n",
       "    <tr>\n",
       "      <th>freq</th>\n",
       "      <td>54</td>\n",
       "      <td>NaN</td>\n",
       "      <td>NaN</td>\n",
       "      <td>NaN</td>\n",
       "      <td>NaN</td>\n",
       "    </tr>\n",
       "    <tr>\n",
       "      <th>mean</th>\n",
       "      <td>NaN</td>\n",
       "      <td>3.793169e+04</td>\n",
       "      <td>5.213021e+11</td>\n",
       "      <td>3.541058e+11</td>\n",
       "      <td>19669.115472</td>\n",
       "    </tr>\n",
       "    <tr>\n",
       "      <th>std</th>\n",
       "      <td>NaN</td>\n",
       "      <td>1.439021e+05</td>\n",
       "      <td>2.448664e+12</td>\n",
       "      <td>1.576706e+12</td>\n",
       "      <td>28036.352685</td>\n",
       "    </tr>\n",
       "    <tr>\n",
       "      <th>min</th>\n",
       "      <td>NaN</td>\n",
       "      <td>4.390000e+00</td>\n",
       "      <td>0.000000e+00</td>\n",
       "      <td>0.000000e+00</td>\n",
       "      <td>278.430000</td>\n",
       "    </tr>\n",
       "    <tr>\n",
       "      <th>25%</th>\n",
       "      <td>NaN</td>\n",
       "      <td>1.247810e+03</td>\n",
       "      <td>2.880000e+09</td>\n",
       "      <td>4.638538e+09</td>\n",
       "      <td>2484.200000</td>\n",
       "    </tr>\n",
       "    <tr>\n",
       "      <th>50%</th>\n",
       "      <td>NaN</td>\n",
       "      <td>6.967350e+03</td>\n",
       "      <td>2.951600e+10</td>\n",
       "      <td>2.128999e+10</td>\n",
       "      <td>7481.425000</td>\n",
       "    </tr>\n",
       "    <tr>\n",
       "      <th>75%</th>\n",
       "      <td>NaN</td>\n",
       "      <td>2.756395e+04</td>\n",
       "      <td>2.265350e+11</td>\n",
       "      <td>1.592921e+11</td>\n",
       "      <td>23997.432500</td>\n",
       "    </tr>\n",
       "    <tr>\n",
       "      <th>max</th>\n",
       "      <td>NaN</td>\n",
       "      <td>1.428628e+06</td>\n",
       "      <td>2.669515e+13</td>\n",
       "      <td>1.862448e+13</td>\n",
       "      <td>178196.570000</td>\n",
       "    </tr>\n",
       "  </tbody>\n",
       "</table>\n",
       "</div>"
      ],
      "text/plain": [
       "       Continent    Population       IMF_GDP        UN_GDP  GDP_per_capita\n",
       "count        212  2.120000e+02  2.120000e+02  2.120000e+02      212.000000\n",
       "unique         6           NaN           NaN           NaN             NaN\n",
       "top       Africa           NaN           NaN           NaN             NaN\n",
       "freq          54           NaN           NaN           NaN             NaN\n",
       "mean         NaN  3.793169e+04  5.213021e+11  3.541058e+11    19669.115472\n",
       "std          NaN  1.439021e+05  2.448664e+12  1.576706e+12    28036.352685\n",
       "min          NaN  4.390000e+00  0.000000e+00  0.000000e+00      278.430000\n",
       "25%          NaN  1.247810e+03  2.880000e+09  4.638538e+09     2484.200000\n",
       "50%          NaN  6.967350e+03  2.951600e+10  2.128999e+10     7481.425000\n",
       "75%          NaN  2.756395e+04  2.265350e+11  1.592921e+11    23997.432500\n",
       "max          NaN  1.428628e+06  2.669515e+13  1.862448e+13   178196.570000"
      ]
     },
     "execution_count": 105,
     "metadata": {},
     "output_type": "execute_result"
    }
   ],
   "source": [
    "df.describe(include = 'all')"
   ]
  },
  {
   "cell_type": "code",
   "execution_count": 106,
   "id": "f7fd817a",
   "metadata": {},
   "outputs": [
    {
     "data": {
      "text/html": [
       "<div>\n",
       "<style scoped>\n",
       "    .dataframe tbody tr th:only-of-type {\n",
       "        vertical-align: middle;\n",
       "    }\n",
       "\n",
       "    .dataframe tbody tr th {\n",
       "        vertical-align: top;\n",
       "    }\n",
       "\n",
       "    .dataframe thead th {\n",
       "        text-align: right;\n",
       "    }\n",
       "</style>\n",
       "<table border=\"1\" class=\"dataframe\">\n",
       "  <thead>\n",
       "    <tr style=\"text-align: right;\">\n",
       "      <th></th>\n",
       "      <th>Population</th>\n",
       "      <th>IMF_GDP</th>\n",
       "      <th>UN_GDP</th>\n",
       "      <th>GDP_per_capita</th>\n",
       "    </tr>\n",
       "  </thead>\n",
       "  <tbody>\n",
       "    <tr>\n",
       "      <th>count</th>\n",
       "      <td>2.120000e+02</td>\n",
       "      <td>2.120000e+02</td>\n",
       "      <td>2.120000e+02</td>\n",
       "      <td>212.000000</td>\n",
       "    </tr>\n",
       "    <tr>\n",
       "      <th>mean</th>\n",
       "      <td>3.793169e+04</td>\n",
       "      <td>5.213021e+11</td>\n",
       "      <td>3.541058e+11</td>\n",
       "      <td>19669.115472</td>\n",
       "    </tr>\n",
       "    <tr>\n",
       "      <th>std</th>\n",
       "      <td>1.439021e+05</td>\n",
       "      <td>2.448664e+12</td>\n",
       "      <td>1.576706e+12</td>\n",
       "      <td>28036.352685</td>\n",
       "    </tr>\n",
       "    <tr>\n",
       "      <th>min</th>\n",
       "      <td>4.390000e+00</td>\n",
       "      <td>0.000000e+00</td>\n",
       "      <td>0.000000e+00</td>\n",
       "      <td>278.430000</td>\n",
       "    </tr>\n",
       "    <tr>\n",
       "      <th>25%</th>\n",
       "      <td>1.247810e+03</td>\n",
       "      <td>2.880000e+09</td>\n",
       "      <td>4.638538e+09</td>\n",
       "      <td>2484.200000</td>\n",
       "    </tr>\n",
       "    <tr>\n",
       "      <th>50%</th>\n",
       "      <td>6.967350e+03</td>\n",
       "      <td>2.951600e+10</td>\n",
       "      <td>2.128999e+10</td>\n",
       "      <td>7481.425000</td>\n",
       "    </tr>\n",
       "    <tr>\n",
       "      <th>75%</th>\n",
       "      <td>2.756395e+04</td>\n",
       "      <td>2.265350e+11</td>\n",
       "      <td>1.592921e+11</td>\n",
       "      <td>23997.432500</td>\n",
       "    </tr>\n",
       "    <tr>\n",
       "      <th>max</th>\n",
       "      <td>1.428628e+06</td>\n",
       "      <td>2.669515e+13</td>\n",
       "      <td>1.862448e+13</td>\n",
       "      <td>178196.570000</td>\n",
       "    </tr>\n",
       "  </tbody>\n",
       "</table>\n",
       "</div>"
      ],
      "text/plain": [
       "         Population       IMF_GDP        UN_GDP  GDP_per_capita\n",
       "count  2.120000e+02  2.120000e+02  2.120000e+02      212.000000\n",
       "mean   3.793169e+04  5.213021e+11  3.541058e+11    19669.115472\n",
       "std    1.439021e+05  2.448664e+12  1.576706e+12    28036.352685\n",
       "min    4.390000e+00  0.000000e+00  0.000000e+00      278.430000\n",
       "25%    1.247810e+03  2.880000e+09  4.638538e+09     2484.200000\n",
       "50%    6.967350e+03  2.951600e+10  2.128999e+10     7481.425000\n",
       "75%    2.756395e+04  2.265350e+11  1.592921e+11    23997.432500\n",
       "max    1.428628e+06  2.669515e+13  1.862448e+13   178196.570000"
      ]
     },
     "execution_count": 106,
     "metadata": {},
     "output_type": "execute_result"
    }
   ],
   "source": [
    "df.describe()"
   ]
  },
  {
   "cell_type": "markdown",
   "id": "5009f50f",
   "metadata": {},
   "source": [
    "**Preprocessing and Univariate Analysis**\n",
    "\n",
    "1. There are no duplicates, no null values and ID, Rank and country are all unique in nature and hence dropping these three redundant column for our analysis.\n",
    "\n",
    "2. The mean and median of Population, IMF_GDP, UN_GDP and GDP_per_capita are different indicating outliers.\n",
    "\n",
    "3. The common outliers are China and United States which can be removed for better understanding.\n"
   ]
  },
  {
   "cell_type": "markdown",
   "id": "12bad419",
   "metadata": {},
   "source": [
    "# 3. Exploratory Data Analysis <a class=\"anchor\" id=\"chapter3\"></a>"
   ]
  },
  {
   "cell_type": "markdown",
   "id": "61a0bc06",
   "metadata": {},
   "source": [
    "## 3.1 Data Frequency Understanding <a class=\"anchor\" id=\"chapter3.1\"></a>"
   ]
  },
  {
   "cell_type": "code",
   "execution_count": 107,
   "id": "24dbc6e2",
   "metadata": {},
   "outputs": [
    {
     "name": "stdout",
     "output_type": "stream",
     "text": [
      "************************* Continent *************************\n",
      "The nunique features in Continentis:  6\n",
      "_____________________________________________\n",
      "************************* Population *************************\n",
      "The nunique features in Populationis:  212\n",
      "_____________________________________________\n",
      "************************* IMF_GDP *************************\n",
      "The nunique features in IMF_GDPis:  188\n",
      "_____________________________________________\n",
      "************************* UN_GDP *************************\n",
      "The nunique features in UN_GDPis:  211\n",
      "_____________________________________________\n",
      "************************* GDP_per_capita *************************\n",
      "The nunique features in GDP_per_capitais:  212\n",
      "_____________________________________________\n"
     ]
    }
   ],
   "source": [
    "for column in df.columns:\n",
    "    nunique = df[column].nunique()\n",
    "    print('*'*25,column,'*'*25)\n",
    "    print('The nunique features in ' + column + 'is: ', nunique)\n",
    "    print('_'*45)"
   ]
  },
  {
   "cell_type": "markdown",
   "id": "525f48cc",
   "metadata": {},
   "source": [
    "## 3.2 Univariate Analysis <a class=\"anchor\" id=\"chapter3.2\"></a>"
   ]
  },
  {
   "cell_type": "code",
   "execution_count": 108,
   "id": "2689eba5",
   "metadata": {},
   "outputs": [
    {
     "data": {
      "text/plain": [
       "Index(['Continent', 'Population', 'IMF_GDP', 'UN_GDP', 'GDP_per_capita'], dtype='object')"
      ]
     },
     "execution_count": 108,
     "metadata": {},
     "output_type": "execute_result"
    }
   ],
   "source": [
    "df.columns"
   ]
  },
  {
   "cell_type": "code",
   "execution_count": 109,
   "id": "9b111cee",
   "metadata": {},
   "outputs": [
    {
     "data": {
      "image/png": "[encoded data removed]",
      "text/plain": [
       "<Figure size 720x360 with 1 Axes>"
      ]
     },
     "metadata": {
      "needs_background": "light"
     },
     "output_type": "display_data"
    }
   ],
   "source": [
    "plt.figure(figsize = (10,5))\n",
    "\n",
    "ax = sns.histplot(data = df, x = 'Continent')\n",
    "for i in ax.containers:\n",
    "    i.datavalues\n",
    "    ax.bar_label(i,weight = 'bold')\n",
    "plt.title('Count of Continents')\n",
    "\n",
    "plt.show()"
   ]
  },
  {
   "cell_type": "code",
   "execution_count": 110,
   "id": "c3697631",
   "metadata": {},
   "outputs": [
    {
     "data": {
      "text/plain": [
       "Index(['Continent', 'Population', 'IMF_GDP', 'UN_GDP', 'GDP_per_capita'], dtype='object')"
      ]
     },
     "execution_count": 110,
     "metadata": {},
     "output_type": "execute_result"
    }
   ],
   "source": [
    "df.columns"
   ]
  },
  {
   "cell_type": "code",
   "execution_count": 111,
   "id": "84842af2",
   "metadata": {},
   "outputs": [
    {
     "data": {
      "image/png": "[encoded data removed]",
      "text/plain": [
       "<Figure size 1440x720 with 4 Axes>"
      ]
     },
     "metadata": {
      "needs_background": "light"
     },
     "output_type": "display_data"
    }
   ],
   "source": [
    "plt.figure(figsize = (20,10))\n",
    "\n",
    "plt.subplot(4,1,1)\n",
    "sns.boxplot(data = df, x = 'Population')\n",
    "\n",
    "plt.subplot(4,1,2)\n",
    "sns.boxplot(data = df, x = 'IMF_GDP')\n",
    "\n",
    "plt.subplot(4,1,3)\n",
    "sns.boxplot(data = df, x = 'UN_GDP')\n",
    "\n",
    "plt.subplot(4,1,4)\n",
    "sns.boxplot(data = df, x = 'GDP_per_capita')\n",
    "\n",
    "plt.subplots_adjust(hspace = 1, wspace = .5)\n",
    "\n",
    "plt.show();"
   ]
  },
  {
   "cell_type": "markdown",
   "id": "25314e44",
   "metadata": {},
   "source": [
    "### 3.2.1 Treatment of Outliers <a class=\"anchor\" id=\"chapter3.2.1\"></a>"
   ]
  },
  {
   "cell_type": "code",
   "execution_count": 112,
   "id": "7bfd8ab9",
   "metadata": {},
   "outputs": [
    {
     "data": {
      "text/html": [
       "<div>\n",
       "<style scoped>\n",
       "    .dataframe tbody tr th:only-of-type {\n",
       "        vertical-align: middle;\n",
       "    }\n",
       "\n",
       "    .dataframe tbody tr th {\n",
       "        vertical-align: top;\n",
       "    }\n",
       "\n",
       "    .dataframe thead th {\n",
       "        text-align: right;\n",
       "    }\n",
       "</style>\n",
       "<table border=\"1\" class=\"dataframe\">\n",
       "  <thead>\n",
       "    <tr style=\"text-align: right;\">\n",
       "      <th></th>\n",
       "      <th>Continent</th>\n",
       "      <th>Population</th>\n",
       "      <th>IMF_GDP</th>\n",
       "      <th>UN_GDP</th>\n",
       "      <th>GDP_per_capita</th>\n",
       "    </tr>\n",
       "  </thead>\n",
       "  <tbody>\n",
       "    <tr>\n",
       "      <th>1</th>\n",
       "      <td>Asia</td>\n",
       "      <td>1425671.35</td>\n",
       "      <td>2.186548e+13</td>\n",
       "      <td>1.121828e+13</td>\n",
       "      <td>15336.97</td>\n",
       "    </tr>\n",
       "    <tr>\n",
       "      <th>4</th>\n",
       "      <td>Asia</td>\n",
       "      <td>1428627.66</td>\n",
       "      <td>3.893670e+12</td>\n",
       "      <td>2.259642e+12</td>\n",
       "      <td>2725.46</td>\n",
       "    </tr>\n",
       "  </tbody>\n",
       "</table>\n",
       "</div>"
      ],
      "text/plain": [
       "  Continent  Population       IMF_GDP        UN_GDP  GDP_per_capita\n",
       "1      Asia  1425671.35  2.186548e+13  1.121828e+13        15336.97\n",
       "4      Asia  1428627.66  3.893670e+12  2.259642e+12         2725.46"
      ]
     },
     "execution_count": 112,
     "metadata": {},
     "output_type": "execute_result"
    }
   ],
   "source": [
    "df_pop_outliers = df.loc[df['Population'] >500000,:]\n",
    "df_pop_outliers"
   ]
  },
  {
   "cell_type": "code",
   "execution_count": 113,
   "id": "e81f3e6a",
   "metadata": {},
   "outputs": [
    {
     "data": {
      "text/html": [
       "<div>\n",
       "<style scoped>\n",
       "    .dataframe tbody tr th:only-of-type {\n",
       "        vertical-align: middle;\n",
       "    }\n",
       "\n",
       "    .dataframe tbody tr th {\n",
       "        vertical-align: top;\n",
       "    }\n",
       "\n",
       "    .dataframe thead th {\n",
       "        text-align: right;\n",
       "    }\n",
       "</style>\n",
       "<table border=\"1\" class=\"dataframe\">\n",
       "  <thead>\n",
       "    <tr style=\"text-align: right;\">\n",
       "      <th></th>\n",
       "      <th>Continent</th>\n",
       "      <th>Population</th>\n",
       "      <th>IMF_GDP</th>\n",
       "      <th>UN_GDP</th>\n",
       "      <th>GDP_per_capita</th>\n",
       "    </tr>\n",
       "  </thead>\n",
       "  <tbody>\n",
       "    <tr>\n",
       "      <th>0</th>\n",
       "      <td>North America</td>\n",
       "      <td>339996.56</td>\n",
       "      <td>2.669515e+13</td>\n",
       "      <td>1.862448e+13</td>\n",
       "      <td>78515.94</td>\n",
       "    </tr>\n",
       "    <tr>\n",
       "      <th>1</th>\n",
       "      <td>Asia</td>\n",
       "      <td>1425671.35</td>\n",
       "      <td>2.186548e+13</td>\n",
       "      <td>1.121828e+13</td>\n",
       "      <td>15336.97</td>\n",
       "    </tr>\n",
       "  </tbody>\n",
       "</table>\n",
       "</div>"
      ],
      "text/plain": [
       "       Continent  Population       IMF_GDP        UN_GDP  GDP_per_capita\n",
       "0  North America   339996.56  2.669515e+13  1.862448e+13        78515.94\n",
       "1           Asia  1425671.35  2.186548e+13  1.121828e+13        15336.97"
      ]
     },
     "execution_count": 113,
     "metadata": {},
     "output_type": "execute_result"
    }
   ],
   "source": [
    "df_IMF_outliers = df.loc[df['IMF_GDP'] > 10000000000000,:]\n",
    "df_IMF_outliers"
   ]
  },
  {
   "cell_type": "code",
   "execution_count": 114,
   "id": "a2e7fc59",
   "metadata": {},
   "outputs": [
    {
     "data": {
      "text/html": [
       "<div>\n",
       "<style scoped>\n",
       "    .dataframe tbody tr th:only-of-type {\n",
       "        vertical-align: middle;\n",
       "    }\n",
       "\n",
       "    .dataframe tbody tr th {\n",
       "        vertical-align: top;\n",
       "    }\n",
       "\n",
       "    .dataframe thead th {\n",
       "        text-align: right;\n",
       "    }\n",
       "</style>\n",
       "<table border=\"1\" class=\"dataframe\">\n",
       "  <thead>\n",
       "    <tr style=\"text-align: right;\">\n",
       "      <th></th>\n",
       "      <th>Continent</th>\n",
       "      <th>Population</th>\n",
       "      <th>IMF_GDP</th>\n",
       "      <th>UN_GDP</th>\n",
       "      <th>GDP_per_capita</th>\n",
       "    </tr>\n",
       "  </thead>\n",
       "  <tbody>\n",
       "    <tr>\n",
       "      <th>0</th>\n",
       "      <td>North America</td>\n",
       "      <td>339996.56</td>\n",
       "      <td>2.669515e+13</td>\n",
       "      <td>1.862448e+13</td>\n",
       "      <td>78515.94</td>\n",
       "    </tr>\n",
       "    <tr>\n",
       "      <th>1</th>\n",
       "      <td>Asia</td>\n",
       "      <td>1425671.35</td>\n",
       "      <td>2.186548e+13</td>\n",
       "      <td>1.121828e+13</td>\n",
       "      <td>15336.97</td>\n",
       "    </tr>\n",
       "    <tr>\n",
       "      <th>2</th>\n",
       "      <td>Asia</td>\n",
       "      <td>123294.51</td>\n",
       "      <td>5.291351e+12</td>\n",
       "      <td>4.936212e+12</td>\n",
       "      <td>42916.35</td>\n",
       "    </tr>\n",
       "  </tbody>\n",
       "</table>\n",
       "</div>"
      ],
      "text/plain": [
       "       Continent  Population       IMF_GDP        UN_GDP  GDP_per_capita\n",
       "0  North America   339996.56  2.669515e+13  1.862448e+13        78515.94\n",
       "1           Asia  1425671.35  2.186548e+13  1.121828e+13        15336.97\n",
       "2           Asia   123294.51  5.291351e+12  4.936212e+12        42916.35"
      ]
     },
     "execution_count": 114,
     "metadata": {},
     "output_type": "execute_result"
    }
   ],
   "source": [
    "df_UN_outliers = df.loc[df['UN_GDP'] > 4000000000000,:]\n",
    "df_UN_outliers"
   ]
  },
  {
   "cell_type": "code",
   "execution_count": 115,
   "id": "c36ea523",
   "metadata": {},
   "outputs": [
    {
     "data": {
      "text/html": [
       "<div>\n",
       "<style scoped>\n",
       "    .dataframe tbody tr th:only-of-type {\n",
       "        vertical-align: middle;\n",
       "    }\n",
       "\n",
       "    .dataframe tbody tr th {\n",
       "        vertical-align: top;\n",
       "    }\n",
       "\n",
       "    .dataframe thead th {\n",
       "        text-align: right;\n",
       "    }\n",
       "</style>\n",
       "<table border=\"1\" class=\"dataframe\">\n",
       "  <thead>\n",
       "    <tr style=\"text-align: right;\">\n",
       "      <th></th>\n",
       "      <th>Continent</th>\n",
       "      <th>Population</th>\n",
       "      <th>IMF_GDP</th>\n",
       "      <th>UN_GDP</th>\n",
       "      <th>GDP_per_capita</th>\n",
       "    </tr>\n",
       "  </thead>\n",
       "  <tbody>\n",
       "    <tr>\n",
       "      <th>0</th>\n",
       "      <td>North America</td>\n",
       "      <td>339996.56</td>\n",
       "      <td>2.669515e+13</td>\n",
       "      <td>1.862448e+13</td>\n",
       "      <td>78515.94</td>\n",
       "    </tr>\n",
       "  </tbody>\n",
       "</table>\n",
       "</div>"
      ],
      "text/plain": [
       "       Continent  Population       IMF_GDP        UN_GDP  GDP_per_capita\n",
       "0  North America   339996.56  2.669515e+13  1.862448e+13        78515.94"
      ]
     },
     "execution_count": 115,
     "metadata": {},
     "output_type": "execute_result"
    }
   ],
   "source": [
    "df_UN_outliers = df.loc[df['UN_GDP'] > 12500000000000,:]\n",
    "df_UN_outliers"
   ]
  },
  {
   "cell_type": "markdown",
   "id": "d2d4380e",
   "metadata": {},
   "source": [
    "#### The Repeated Outliers are China and United States and hence that can be removed to get better understanding of the data"
   ]
  },
  {
   "cell_type": "code",
   "execution_count": 116,
   "id": "b93983df",
   "metadata": {},
   "outputs": [],
   "source": [
    "df.drop(index = [0,1], inplace = True)\n"
   ]
  },
  {
   "cell_type": "code",
   "execution_count": 117,
   "id": "46db9b90",
   "metadata": {},
   "outputs": [
    {
     "data": {
      "text/html": [
       "<div>\n",
       "<style scoped>\n",
       "    .dataframe tbody tr th:only-of-type {\n",
       "        vertical-align: middle;\n",
       "    }\n",
       "\n",
       "    .dataframe tbody tr th {\n",
       "        vertical-align: top;\n",
       "    }\n",
       "\n",
       "    .dataframe thead th {\n",
       "        text-align: right;\n",
       "    }\n",
       "</style>\n",
       "<table border=\"1\" class=\"dataframe\">\n",
       "  <thead>\n",
       "    <tr style=\"text-align: right;\">\n",
       "      <th></th>\n",
       "      <th>Continent</th>\n",
       "      <th>Population</th>\n",
       "      <th>IMF_GDP</th>\n",
       "      <th>UN_GDP</th>\n",
       "      <th>GDP_per_capita</th>\n",
       "    </tr>\n",
       "  </thead>\n",
       "  <tbody>\n",
       "    <tr>\n",
       "      <th>2</th>\n",
       "      <td>Asia</td>\n",
       "      <td>123294.51</td>\n",
       "      <td>5.291351e+12</td>\n",
       "      <td>4.936212e+12</td>\n",
       "      <td>42916.35</td>\n",
       "    </tr>\n",
       "    <tr>\n",
       "      <th>3</th>\n",
       "      <td>Europe</td>\n",
       "      <td>83294.63</td>\n",
       "      <td>4.564778e+12</td>\n",
       "      <td>3.477796e+12</td>\n",
       "      <td>54802.79</td>\n",
       "    </tr>\n",
       "    <tr>\n",
       "      <th>4</th>\n",
       "      <td>Asia</td>\n",
       "      <td>1428627.66</td>\n",
       "      <td>3.893670e+12</td>\n",
       "      <td>2.259642e+12</td>\n",
       "      <td>2725.46</td>\n",
       "    </tr>\n",
       "  </tbody>\n",
       "</table>\n",
       "</div>"
      ],
      "text/plain": [
       "  Continent  Population       IMF_GDP        UN_GDP  GDP_per_capita\n",
       "2      Asia   123294.51  5.291351e+12  4.936212e+12        42916.35\n",
       "3    Europe    83294.63  4.564778e+12  3.477796e+12        54802.79\n",
       "4      Asia  1428627.66  3.893670e+12  2.259642e+12         2725.46"
      ]
     },
     "execution_count": 117,
     "metadata": {},
     "output_type": "execute_result"
    }
   ],
   "source": [
    "df.head(3)"
   ]
  },
  {
   "cell_type": "code",
   "execution_count": 118,
   "id": "fc04a615",
   "metadata": {},
   "outputs": [],
   "source": [
    "df.reset_index(inplace = True)"
   ]
  },
  {
   "cell_type": "code",
   "execution_count": 119,
   "id": "e400827a",
   "metadata": {
    "scrolled": false
   },
   "outputs": [],
   "source": [
    "df.drop(columns = 'index', inplace = True)"
   ]
  },
  {
   "cell_type": "code",
   "execution_count": 120,
   "id": "78d98dc3",
   "metadata": {},
   "outputs": [
    {
     "data": {
      "text/html": [
       "<div>\n",
       "<style scoped>\n",
       "    .dataframe tbody tr th:only-of-type {\n",
       "        vertical-align: middle;\n",
       "    }\n",
       "\n",
       "    .dataframe tbody tr th {\n",
       "        vertical-align: top;\n",
       "    }\n",
       "\n",
       "    .dataframe thead th {\n",
       "        text-align: right;\n",
       "    }\n",
       "</style>\n",
       "<table border=\"1\" class=\"dataframe\">\n",
       "  <thead>\n",
       "    <tr style=\"text-align: right;\">\n",
       "      <th></th>\n",
       "      <th>Continent</th>\n",
       "      <th>Population</th>\n",
       "      <th>IMF_GDP</th>\n",
       "      <th>UN_GDP</th>\n",
       "      <th>GDP_per_capita</th>\n",
       "    </tr>\n",
       "  </thead>\n",
       "  <tbody>\n",
       "    <tr>\n",
       "      <th>0</th>\n",
       "      <td>Asia</td>\n",
       "      <td>123294.51</td>\n",
       "      <td>5.291351e+12</td>\n",
       "      <td>4.936212e+12</td>\n",
       "      <td>42916.35</td>\n",
       "    </tr>\n",
       "    <tr>\n",
       "      <th>1</th>\n",
       "      <td>Europe</td>\n",
       "      <td>83294.63</td>\n",
       "      <td>4.564778e+12</td>\n",
       "      <td>3.477796e+12</td>\n",
       "      <td>54802.79</td>\n",
       "    </tr>\n",
       "    <tr>\n",
       "      <th>2</th>\n",
       "      <td>Asia</td>\n",
       "      <td>1428627.66</td>\n",
       "      <td>3.893670e+12</td>\n",
       "      <td>2.259642e+12</td>\n",
       "      <td>2725.46</td>\n",
       "    </tr>\n",
       "    <tr>\n",
       "      <th>3</th>\n",
       "      <td>Europe</td>\n",
       "      <td>67736.80</td>\n",
       "      <td>3.686935e+12</td>\n",
       "      <td>2.647899e+12</td>\n",
       "      <td>54430.31</td>\n",
       "    </tr>\n",
       "    <tr>\n",
       "      <th>4</th>\n",
       "      <td>Europe</td>\n",
       "      <td>64756.58</td>\n",
       "      <td>3.086226e+12</td>\n",
       "      <td>2.465454e+12</td>\n",
       "      <td>47658.88</td>\n",
       "    </tr>\n",
       "    <tr>\n",
       "      <th>...</th>\n",
       "      <td>...</td>\n",
       "      <td>...</td>\n",
       "      <td>...</td>\n",
       "      <td>...</td>\n",
       "      <td>...</td>\n",
       "    </tr>\n",
       "    <tr>\n",
       "      <th>205</th>\n",
       "      <td>Africa</td>\n",
       "      <td>48109.01</td>\n",
       "      <td>0.000000e+00</td>\n",
       "      <td>8.288740e+10</td>\n",
       "      <td>1722.91</td>\n",
       "    </tr>\n",
       "    <tr>\n",
       "      <th>206</th>\n",
       "      <td>Asia</td>\n",
       "      <td>23227.01</td>\n",
       "      <td>0.000000e+00</td>\n",
       "      <td>2.216308e+10</td>\n",
       "      <td>954.19</td>\n",
       "    </tr>\n",
       "    <tr>\n",
       "      <th>207</th>\n",
       "      <td>Africa</td>\n",
       "      <td>12458.22</td>\n",
       "      <td>0.000000e+00</td>\n",
       "      <td>4.170356e+10</td>\n",
       "      <td>3347.47</td>\n",
       "    </tr>\n",
       "    <tr>\n",
       "      <th>208</th>\n",
       "      <td>North America</td>\n",
       "      <td>46.06</td>\n",
       "      <td>0.000000e+00</td>\n",
       "      <td>9.175505e+08</td>\n",
       "      <td>19919.90</td>\n",
       "    </tr>\n",
       "    <tr>\n",
       "      <th>209</th>\n",
       "      <td>Europe</td>\n",
       "      <td>36744.63</td>\n",
       "      <td>0.000000e+00</td>\n",
       "      <td>9.327035e+10</td>\n",
       "      <td>2538.34</td>\n",
       "    </tr>\n",
       "  </tbody>\n",
       "</table>\n",
       "<p>210 rows × 5 columns</p>\n",
       "</div>"
      ],
      "text/plain": [
       "         Continent  Population       IMF_GDP        UN_GDP  GDP_per_capita\n",
       "0             Asia   123294.51  5.291351e+12  4.936212e+12        42916.35\n",
       "1           Europe    83294.63  4.564778e+12  3.477796e+12        54802.79\n",
       "2             Asia  1428627.66  3.893670e+12  2.259642e+12         2725.46\n",
       "3           Europe    67736.80  3.686935e+12  2.647899e+12        54430.31\n",
       "4           Europe    64756.58  3.086226e+12  2.465454e+12        47658.88\n",
       "..             ...         ...           ...           ...             ...\n",
       "205         Africa    48109.01  0.000000e+00  8.288740e+10         1722.91\n",
       "206           Asia    23227.01  0.000000e+00  2.216308e+10          954.19\n",
       "207         Africa    12458.22  0.000000e+00  4.170356e+10         3347.47\n",
       "208  North America       46.06  0.000000e+00  9.175505e+08        19919.90\n",
       "209         Europe    36744.63  0.000000e+00  9.327035e+10         2538.34\n",
       "\n",
       "[210 rows x 5 columns]"
      ]
     },
     "execution_count": 120,
     "metadata": {},
     "output_type": "execute_result"
    }
   ],
   "source": [
    "df"
   ]
  },
  {
   "cell_type": "markdown",
   "id": "2b51fc4f",
   "metadata": {},
   "source": [
    "## 3.3 Bivariate Analysis <a class=\"anchor\" id=\"chapter3.3\"></a>"
   ]
  },
  {
   "cell_type": "code",
   "execution_count": 121,
   "id": "30011730",
   "metadata": {},
   "outputs": [
    {
     "data": {
      "text/plain": [
       "Index(['Continent', 'Population', 'IMF_GDP', 'UN_GDP', 'GDP_per_capita'], dtype='object')"
      ]
     },
     "execution_count": 121,
     "metadata": {},
     "output_type": "execute_result"
    }
   ],
   "source": [
    "df.columns"
   ]
  },
  {
   "cell_type": "code",
   "execution_count": 122,
   "id": "a99e654d",
   "metadata": {},
   "outputs": [
    {
     "data": {
      "image/png": "[encoded data removed]",
      "text/plain": [
       "<Figure size 432x288 with 1 Axes>"
      ]
     },
     "metadata": {
      "needs_background": "light"
     },
     "output_type": "display_data"
    }
   ],
   "source": [
    "plt.scatter(data = df,x = 'Population', y = 'IMF_GDP')\n",
    "plt.scatter(data = df,x = 'Population', y = 'UN_GDP')\n",
    "plt.scatter(data = df,x = 'Population', y = 'GDP_per_capita')\n",
    "plt.legend()\n",
    "plt.show()"
   ]
  },
  {
   "cell_type": "code",
   "execution_count": 123,
   "id": "0779dcf4",
   "metadata": {},
   "outputs": [
    {
     "data": {
      "text/plain": [
       "<AxesSubplot:>"
      ]
     },
     "execution_count": 123,
     "metadata": {},
     "output_type": "execute_result"
    },
    {
     "data": {
      "image/png": "[encoded data removed]",
      "text/plain": [
       "<Figure size 432x288 with 2 Axes>"
      ]
     },
     "metadata": {
      "needs_background": "light"
     },
     "output_type": "display_data"
    }
   ],
   "source": [
    "sns.heatmap(df.corr(), annot = True)"
   ]
  },
  {
   "cell_type": "markdown",
   "id": "0e8d5ded",
   "metadata": {},
   "source": [
    "**Inferences**\n",
    "1. The relation between IMF_GDP is strong with UN_GDP\n",
    "2. The relation between the Population of the country is strong with UN_GDP and IMF_GDP"
   ]
  },
  {
   "cell_type": "markdown",
   "id": "08f4a92c",
   "metadata": {},
   "source": [
    "# 4. Spliting the data and Fitting the model <a class=\"anchor\" id=\"chapter4\"></a>"
   ]
  },
  {
   "cell_type": "markdown",
   "id": "ab50442e",
   "metadata": {},
   "source": [
    "## 4.1  Converting Categorical Variables as Binary Vectors <a class=\"anchor\" id=\"chapter4.1\"></a>"
   ]
  },
  {
   "cell_type": "code",
   "execution_count": 124,
   "id": "8b71590f",
   "metadata": {},
   "outputs": [
    {
     "data": {
      "text/plain": [
       "Index(['Continent', 'Population', 'IMF_GDP', 'UN_GDP', 'GDP_per_capita'], dtype='object')"
      ]
     },
     "execution_count": 124,
     "metadata": {},
     "output_type": "execute_result"
    }
   ],
   "source": [
    "df.columns"
   ]
  },
  {
   "cell_type": "code",
   "execution_count": 125,
   "id": "48788e84",
   "metadata": {},
   "outputs": [],
   "source": [
    "# separating the categorical and continuous variables of the data frame\n",
    "df_cat = df.select_dtypes(include = 'O')\n",
    "df_cont = df.select_dtypes(exclude = 'O')"
   ]
  },
  {
   "cell_type": "code",
   "execution_count": 126,
   "id": "9478a747",
   "metadata": {},
   "outputs": [],
   "source": [
    "from sklearn.preprocessing import OneHotEncoder"
   ]
  },
  {
   "cell_type": "code",
   "execution_count": 127,
   "id": "9c890c4b",
   "metadata": {},
   "outputs": [
    {
     "data": {
      "text/plain": [
       "OneHotEncoder()"
      ]
     },
     "execution_count": 127,
     "metadata": {},
     "output_type": "execute_result"
    }
   ],
   "source": [
    "ohe = OneHotEncoder()\n",
    "ohe.fit(df_cat)"
   ]
  },
  {
   "cell_type": "code",
   "execution_count": 128,
   "id": "9f87d701",
   "metadata": {},
   "outputs": [
    {
     "data": {
      "text/plain": [
       "<210x6 sparse matrix of type '<class 'numpy.float64'>'\n",
       "\twith 210 stored elements in Compressed Sparse Row format>"
      ]
     },
     "execution_count": 128,
     "metadata": {},
     "output_type": "execute_result"
    }
   ],
   "source": [
    "ohe.transform(df_cat)\n"
   ]
  },
  {
   "cell_type": "code",
   "execution_count": 129,
   "id": "86ce0066",
   "metadata": {},
   "outputs": [
    {
     "data": {
      "text/plain": [
       "array([[0., 1., 0., 0., 0., 0.],\n",
       "       [0., 0., 1., 0., 0., 0.],\n",
       "       [0., 1., 0., 0., 0., 0.],\n",
       "       ...,\n",
       "       [1., 0., 0., 0., 0., 0.],\n",
       "       [0., 0., 0., 1., 0., 0.],\n",
       "       [0., 0., 1., 0., 0., 0.]])"
      ]
     },
     "execution_count": 129,
     "metadata": {},
     "output_type": "execute_result"
    }
   ],
   "source": [
    "ohe.transform(df_cat).toarray()"
   ]
  },
  {
   "cell_type": "code",
   "execution_count": 130,
   "id": "6501ef89",
   "metadata": {},
   "outputs": [
    {
     "data": {
      "text/plain": [
       "array(['Continent_Africa', 'Continent_Asia', 'Continent_Europe',\n",
       "       'Continent_North America', 'Continent_Oceania',\n",
       "       'Continent_South America'], dtype=object)"
      ]
     },
     "execution_count": 130,
     "metadata": {},
     "output_type": "execute_result"
    }
   ],
   "source": [
    "ohe.get_feature_names_out()"
   ]
  },
  {
   "cell_type": "code",
   "execution_count": 131,
   "id": "e985b247",
   "metadata": {},
   "outputs": [
    {
     "data": {
      "text/html": [
       "<div>\n",
       "<style scoped>\n",
       "    .dataframe tbody tr th:only-of-type {\n",
       "        vertical-align: middle;\n",
       "    }\n",
       "\n",
       "    .dataframe tbody tr th {\n",
       "        vertical-align: top;\n",
       "    }\n",
       "\n",
       "    .dataframe thead th {\n",
       "        text-align: right;\n",
       "    }\n",
       "</style>\n",
       "<table border=\"1\" class=\"dataframe\">\n",
       "  <thead>\n",
       "    <tr style=\"text-align: right;\">\n",
       "      <th></th>\n",
       "      <th>Continent_Africa</th>\n",
       "      <th>Continent_Asia</th>\n",
       "      <th>Continent_Europe</th>\n",
       "      <th>Continent_North America</th>\n",
       "      <th>Continent_Oceania</th>\n",
       "      <th>Continent_South America</th>\n",
       "    </tr>\n",
       "  </thead>\n",
       "  <tbody>\n",
       "    <tr>\n",
       "      <th>0</th>\n",
       "      <td>0.0</td>\n",
       "      <td>1.0</td>\n",
       "      <td>0.0</td>\n",
       "      <td>0.0</td>\n",
       "      <td>0.0</td>\n",
       "      <td>0.0</td>\n",
       "    </tr>\n",
       "    <tr>\n",
       "      <th>1</th>\n",
       "      <td>0.0</td>\n",
       "      <td>0.0</td>\n",
       "      <td>1.0</td>\n",
       "      <td>0.0</td>\n",
       "      <td>0.0</td>\n",
       "      <td>0.0</td>\n",
       "    </tr>\n",
       "    <tr>\n",
       "      <th>2</th>\n",
       "      <td>0.0</td>\n",
       "      <td>1.0</td>\n",
       "      <td>0.0</td>\n",
       "      <td>0.0</td>\n",
       "      <td>0.0</td>\n",
       "      <td>0.0</td>\n",
       "    </tr>\n",
       "    <tr>\n",
       "      <th>3</th>\n",
       "      <td>0.0</td>\n",
       "      <td>0.0</td>\n",
       "      <td>1.0</td>\n",
       "      <td>0.0</td>\n",
       "      <td>0.0</td>\n",
       "      <td>0.0</td>\n",
       "    </tr>\n",
       "    <tr>\n",
       "      <th>4</th>\n",
       "      <td>0.0</td>\n",
       "      <td>0.0</td>\n",
       "      <td>1.0</td>\n",
       "      <td>0.0</td>\n",
       "      <td>0.0</td>\n",
       "      <td>0.0</td>\n",
       "    </tr>\n",
       "    <tr>\n",
       "      <th>...</th>\n",
       "      <td>...</td>\n",
       "      <td>...</td>\n",
       "      <td>...</td>\n",
       "      <td>...</td>\n",
       "      <td>...</td>\n",
       "      <td>...</td>\n",
       "    </tr>\n",
       "    <tr>\n",
       "      <th>205</th>\n",
       "      <td>1.0</td>\n",
       "      <td>0.0</td>\n",
       "      <td>0.0</td>\n",
       "      <td>0.0</td>\n",
       "      <td>0.0</td>\n",
       "      <td>0.0</td>\n",
       "    </tr>\n",
       "    <tr>\n",
       "      <th>206</th>\n",
       "      <td>0.0</td>\n",
       "      <td>1.0</td>\n",
       "      <td>0.0</td>\n",
       "      <td>0.0</td>\n",
       "      <td>0.0</td>\n",
       "      <td>0.0</td>\n",
       "    </tr>\n",
       "    <tr>\n",
       "      <th>207</th>\n",
       "      <td>1.0</td>\n",
       "      <td>0.0</td>\n",
       "      <td>0.0</td>\n",
       "      <td>0.0</td>\n",
       "      <td>0.0</td>\n",
       "      <td>0.0</td>\n",
       "    </tr>\n",
       "    <tr>\n",
       "      <th>208</th>\n",
       "      <td>0.0</td>\n",
       "      <td>0.0</td>\n",
       "      <td>0.0</td>\n",
       "      <td>1.0</td>\n",
       "      <td>0.0</td>\n",
       "      <td>0.0</td>\n",
       "    </tr>\n",
       "    <tr>\n",
       "      <th>209</th>\n",
       "      <td>0.0</td>\n",
       "      <td>0.0</td>\n",
       "      <td>1.0</td>\n",
       "      <td>0.0</td>\n",
       "      <td>0.0</td>\n",
       "      <td>0.0</td>\n",
       "    </tr>\n",
       "  </tbody>\n",
       "</table>\n",
       "<p>210 rows × 6 columns</p>\n",
       "</div>"
      ],
      "text/plain": [
       "     Continent_Africa  Continent_Asia  Continent_Europe  \\\n",
       "0                 0.0             1.0               0.0   \n",
       "1                 0.0             0.0               1.0   \n",
       "2                 0.0             1.0               0.0   \n",
       "3                 0.0             0.0               1.0   \n",
       "4                 0.0             0.0               1.0   \n",
       "..                ...             ...               ...   \n",
       "205               1.0             0.0               0.0   \n",
       "206               0.0             1.0               0.0   \n",
       "207               1.0             0.0               0.0   \n",
       "208               0.0             0.0               0.0   \n",
       "209               0.0             0.0               1.0   \n",
       "\n",
       "     Continent_North America  Continent_Oceania  Continent_South America  \n",
       "0                        0.0                0.0                      0.0  \n",
       "1                        0.0                0.0                      0.0  \n",
       "2                        0.0                0.0                      0.0  \n",
       "3                        0.0                0.0                      0.0  \n",
       "4                        0.0                0.0                      0.0  \n",
       "..                       ...                ...                      ...  \n",
       "205                      0.0                0.0                      0.0  \n",
       "206                      0.0                0.0                      0.0  \n",
       "207                      0.0                0.0                      0.0  \n",
       "208                      1.0                0.0                      0.0  \n",
       "209                      0.0                0.0                      0.0  \n",
       "\n",
       "[210 rows x 6 columns]"
      ]
     },
     "execution_count": 131,
     "metadata": {},
     "output_type": "execute_result"
    }
   ],
   "source": [
    "df_cat_rev = pd.DataFrame(ohe.transform(df_cat).toarray(), columns = ohe.get_feature_names_out())\n",
    "df_cat_rev"
   ]
  },
  {
   "cell_type": "code",
   "execution_count": 132,
   "id": "5aa83fc4",
   "metadata": {},
   "outputs": [
    {
     "data": {
      "text/html": [
       "<div>\n",
       "<style scoped>\n",
       "    .dataframe tbody tr th:only-of-type {\n",
       "        vertical-align: middle;\n",
       "    }\n",
       "\n",
       "    .dataframe tbody tr th {\n",
       "        vertical-align: top;\n",
       "    }\n",
       "\n",
       "    .dataframe thead th {\n",
       "        text-align: right;\n",
       "    }\n",
       "</style>\n",
       "<table border=\"1\" class=\"dataframe\">\n",
       "  <thead>\n",
       "    <tr style=\"text-align: right;\">\n",
       "      <th></th>\n",
       "      <th>Continent_Africa</th>\n",
       "      <th>Continent_Asia</th>\n",
       "      <th>Continent_Europe</th>\n",
       "      <th>Continent_North America</th>\n",
       "      <th>Continent_Oceania</th>\n",
       "      <th>Continent_South America</th>\n",
       "      <th>Population</th>\n",
       "      <th>IMF_GDP</th>\n",
       "      <th>UN_GDP</th>\n",
       "      <th>GDP_per_capita</th>\n",
       "    </tr>\n",
       "  </thead>\n",
       "  <tbody>\n",
       "    <tr>\n",
       "      <th>0</th>\n",
       "      <td>0.0</td>\n",
       "      <td>1.0</td>\n",
       "      <td>0.0</td>\n",
       "      <td>0.0</td>\n",
       "      <td>0.0</td>\n",
       "      <td>0.0</td>\n",
       "      <td>123294.51</td>\n",
       "      <td>5.291351e+12</td>\n",
       "      <td>4.936212e+12</td>\n",
       "      <td>42916.35</td>\n",
       "    </tr>\n",
       "    <tr>\n",
       "      <th>1</th>\n",
       "      <td>0.0</td>\n",
       "      <td>0.0</td>\n",
       "      <td>1.0</td>\n",
       "      <td>0.0</td>\n",
       "      <td>0.0</td>\n",
       "      <td>0.0</td>\n",
       "      <td>83294.63</td>\n",
       "      <td>4.564778e+12</td>\n",
       "      <td>3.477796e+12</td>\n",
       "      <td>54802.79</td>\n",
       "    </tr>\n",
       "    <tr>\n",
       "      <th>2</th>\n",
       "      <td>0.0</td>\n",
       "      <td>1.0</td>\n",
       "      <td>0.0</td>\n",
       "      <td>0.0</td>\n",
       "      <td>0.0</td>\n",
       "      <td>0.0</td>\n",
       "      <td>1428627.66</td>\n",
       "      <td>3.893670e+12</td>\n",
       "      <td>2.259642e+12</td>\n",
       "      <td>2725.46</td>\n",
       "    </tr>\n",
       "    <tr>\n",
       "      <th>3</th>\n",
       "      <td>0.0</td>\n",
       "      <td>0.0</td>\n",
       "      <td>1.0</td>\n",
       "      <td>0.0</td>\n",
       "      <td>0.0</td>\n",
       "      <td>0.0</td>\n",
       "      <td>67736.80</td>\n",
       "      <td>3.686935e+12</td>\n",
       "      <td>2.647899e+12</td>\n",
       "      <td>54430.31</td>\n",
       "    </tr>\n",
       "    <tr>\n",
       "      <th>4</th>\n",
       "      <td>0.0</td>\n",
       "      <td>0.0</td>\n",
       "      <td>1.0</td>\n",
       "      <td>0.0</td>\n",
       "      <td>0.0</td>\n",
       "      <td>0.0</td>\n",
       "      <td>64756.58</td>\n",
       "      <td>3.086226e+12</td>\n",
       "      <td>2.465454e+12</td>\n",
       "      <td>47658.88</td>\n",
       "    </tr>\n",
       "    <tr>\n",
       "      <th>...</th>\n",
       "      <td>...</td>\n",
       "      <td>...</td>\n",
       "      <td>...</td>\n",
       "      <td>...</td>\n",
       "      <td>...</td>\n",
       "      <td>...</td>\n",
       "      <td>...</td>\n",
       "      <td>...</td>\n",
       "      <td>...</td>\n",
       "      <td>...</td>\n",
       "    </tr>\n",
       "    <tr>\n",
       "      <th>205</th>\n",
       "      <td>1.0</td>\n",
       "      <td>0.0</td>\n",
       "      <td>0.0</td>\n",
       "      <td>0.0</td>\n",
       "      <td>0.0</td>\n",
       "      <td>0.0</td>\n",
       "      <td>48109.01</td>\n",
       "      <td>0.000000e+00</td>\n",
       "      <td>8.288740e+10</td>\n",
       "      <td>1722.91</td>\n",
       "    </tr>\n",
       "    <tr>\n",
       "      <th>206</th>\n",
       "      <td>0.0</td>\n",
       "      <td>1.0</td>\n",
       "      <td>0.0</td>\n",
       "      <td>0.0</td>\n",
       "      <td>0.0</td>\n",
       "      <td>0.0</td>\n",
       "      <td>23227.01</td>\n",
       "      <td>0.000000e+00</td>\n",
       "      <td>2.216308e+10</td>\n",
       "      <td>954.19</td>\n",
       "    </tr>\n",
       "    <tr>\n",
       "      <th>207</th>\n",
       "      <td>1.0</td>\n",
       "      <td>0.0</td>\n",
       "      <td>0.0</td>\n",
       "      <td>0.0</td>\n",
       "      <td>0.0</td>\n",
       "      <td>0.0</td>\n",
       "      <td>12458.22</td>\n",
       "      <td>0.000000e+00</td>\n",
       "      <td>4.170356e+10</td>\n",
       "      <td>3347.47</td>\n",
       "    </tr>\n",
       "    <tr>\n",
       "      <th>208</th>\n",
       "      <td>0.0</td>\n",
       "      <td>0.0</td>\n",
       "      <td>0.0</td>\n",
       "      <td>1.0</td>\n",
       "      <td>0.0</td>\n",
       "      <td>0.0</td>\n",
       "      <td>46.06</td>\n",
       "      <td>0.000000e+00</td>\n",
       "      <td>9.175505e+08</td>\n",
       "      <td>19919.90</td>\n",
       "    </tr>\n",
       "    <tr>\n",
       "      <th>209</th>\n",
       "      <td>0.0</td>\n",
       "      <td>0.0</td>\n",
       "      <td>1.0</td>\n",
       "      <td>0.0</td>\n",
       "      <td>0.0</td>\n",
       "      <td>0.0</td>\n",
       "      <td>36744.63</td>\n",
       "      <td>0.000000e+00</td>\n",
       "      <td>9.327035e+10</td>\n",
       "      <td>2538.34</td>\n",
       "    </tr>\n",
       "  </tbody>\n",
       "</table>\n",
       "<p>210 rows × 10 columns</p>\n",
       "</div>"
      ],
      "text/plain": [
       "     Continent_Africa  Continent_Asia  Continent_Europe  \\\n",
       "0                 0.0             1.0               0.0   \n",
       "1                 0.0             0.0               1.0   \n",
       "2                 0.0             1.0               0.0   \n",
       "3                 0.0             0.0               1.0   \n",
       "4                 0.0             0.0               1.0   \n",
       "..                ...             ...               ...   \n",
       "205               1.0             0.0               0.0   \n",
       "206               0.0             1.0               0.0   \n",
       "207               1.0             0.0               0.0   \n",
       "208               0.0             0.0               0.0   \n",
       "209               0.0             0.0               1.0   \n",
       "\n",
       "     Continent_North America  Continent_Oceania  Continent_South America  \\\n",
       "0                        0.0                0.0                      0.0   \n",
       "1                        0.0                0.0                      0.0   \n",
       "2                        0.0                0.0                      0.0   \n",
       "3                        0.0                0.0                      0.0   \n",
       "4                        0.0                0.0                      0.0   \n",
       "..                       ...                ...                      ...   \n",
       "205                      0.0                0.0                      0.0   \n",
       "206                      0.0                0.0                      0.0   \n",
       "207                      0.0                0.0                      0.0   \n",
       "208                      1.0                0.0                      0.0   \n",
       "209                      0.0                0.0                      0.0   \n",
       "\n",
       "     Population       IMF_GDP        UN_GDP  GDP_per_capita  \n",
       "0     123294.51  5.291351e+12  4.936212e+12        42916.35  \n",
       "1      83294.63  4.564778e+12  3.477796e+12        54802.79  \n",
       "2    1428627.66  3.893670e+12  2.259642e+12         2725.46  \n",
       "3      67736.80  3.686935e+12  2.647899e+12        54430.31  \n",
       "4      64756.58  3.086226e+12  2.465454e+12        47658.88  \n",
       "..          ...           ...           ...             ...  \n",
       "205    48109.01  0.000000e+00  8.288740e+10         1722.91  \n",
       "206    23227.01  0.000000e+00  2.216308e+10          954.19  \n",
       "207    12458.22  0.000000e+00  4.170356e+10         3347.47  \n",
       "208       46.06  0.000000e+00  9.175505e+08        19919.90  \n",
       "209    36744.63  0.000000e+00  9.327035e+10         2538.34  \n",
       "\n",
       "[210 rows x 10 columns]"
      ]
     },
     "execution_count": 132,
     "metadata": {},
     "output_type": "execute_result"
    }
   ],
   "source": [
    "df = df_cat_rev.join(df_cont)\n",
    "df"
   ]
  },
  {
   "cell_type": "markdown",
   "id": "cddda9b9",
   "metadata": {},
   "source": [
    "#### Removing spaces from Column Names"
   ]
  },
  {
   "cell_type": "code",
   "execution_count": 133,
   "id": "b56fdf56",
   "metadata": {},
   "outputs": [],
   "source": [
    "df.rename(columns = {'Continent_North America':'Continent_North_America','Continent_South America':'Continent_South_America'}, inplace = True)"
   ]
  },
  {
   "cell_type": "markdown",
   "id": "606394a9",
   "metadata": {},
   "source": [
    "## 4.2 Spliting the Data <a class=\"anchor\" id=\"chapter4.2\"></a>"
   ]
  },
  {
   "cell_type": "code",
   "execution_count": 134,
   "id": "1df1e6fb",
   "metadata": {},
   "outputs": [
    {
     "data": {
      "text/plain": [
       "Index(['Continent_Africa', 'Continent_Asia', 'Continent_Europe',\n",
       "       'Continent_North_America', 'Continent_Oceania',\n",
       "       'Continent_South_America', 'Population', 'IMF_GDP', 'UN_GDP',\n",
       "       'GDP_per_capita'],\n",
       "      dtype='object')"
      ]
     },
     "execution_count": 134,
     "metadata": {},
     "output_type": "execute_result"
    }
   ],
   "source": [
    "df.columns"
   ]
  },
  {
   "cell_type": "code",
   "execution_count": 135,
   "id": "064fd846",
   "metadata": {},
   "outputs": [],
   "source": [
    "X = df.drop(columns = 'GDP_per_capita')\n",
    "y = df['GDP_per_capita']"
   ]
  },
  {
   "cell_type": "code",
   "execution_count": 136,
   "id": "ce9e1d70",
   "metadata": {},
   "outputs": [],
   "source": [
    "X_train,X_test,y_train,y_test = train_test_split(X,y,train_size = 0.7, random_state = 20)"
   ]
  },
  {
   "cell_type": "code",
   "execution_count": 137,
   "id": "bc147c63",
   "metadata": {},
   "outputs": [
    {
     "data": {
      "text/plain": [
       "(147, 9)"
      ]
     },
     "execution_count": 137,
     "metadata": {},
     "output_type": "execute_result"
    }
   ],
   "source": [
    "X_train = pd.DataFrame(X_train)\n",
    "X_train.shape"
   ]
  },
  {
   "cell_type": "code",
   "execution_count": 138,
   "id": "dccef279",
   "metadata": {},
   "outputs": [
    {
     "data": {
      "text/plain": [
       "(63, 9)"
      ]
     },
     "execution_count": 138,
     "metadata": {},
     "output_type": "execute_result"
    }
   ],
   "source": [
    "X_test = pd.DataFrame(X_test)\n",
    "X_test.shape"
   ]
  },
  {
   "cell_type": "code",
   "execution_count": 139,
   "id": "720a819b",
   "metadata": {},
   "outputs": [
    {
     "data": {
      "text/plain": [
       "(147, 1)"
      ]
     },
     "execution_count": 139,
     "metadata": {},
     "output_type": "execute_result"
    }
   ],
   "source": [
    "y_train = pd.DataFrame(y_train)\n",
    "y_train.shape"
   ]
  },
  {
   "cell_type": "code",
   "execution_count": 140,
   "id": "e5a669a2",
   "metadata": {},
   "outputs": [
    {
     "data": {
      "text/plain": [
       "134      739.50\n",
       "5      60913.86\n",
       "13      5083.15\n",
       "46     52929.36\n",
       "62       918.75\n",
       "         ...   \n",
       "21     63123.50\n",
       "47     26078.39\n",
       "147     6123.62\n",
       "182     1745.12\n",
       "133    33032.57\n",
       "Name: GDP_per_capita, Length: 63, dtype: float64"
      ]
     },
     "execution_count": 140,
     "metadata": {},
     "output_type": "execute_result"
    }
   ],
   "source": [
    "y_test"
   ]
  },
  {
   "cell_type": "markdown",
   "id": "92cbf86e",
   "metadata": {},
   "source": [
    "## 4.3 Fitting the Linear Regression algorithm in model <a class=\"anchor\" id=\"chapter4.3\"></a>"
   ]
  },
  {
   "cell_type": "code",
   "execution_count": 141,
   "id": "8bf7e6e6",
   "metadata": {},
   "outputs": [
    {
     "data": {
      "text/plain": [
       "LinearRegression()"
      ]
     },
     "execution_count": 141,
     "metadata": {},
     "output_type": "execute_result"
    }
   ],
   "source": [
    "lr = LinearRegression()\n",
    "\n",
    "lr.fit(X_train,y_train)"
   ]
  },
  {
   "cell_type": "code",
   "execution_count": 142,
   "id": "dca64efb",
   "metadata": {},
   "outputs": [
    {
     "data": {
      "text/plain": [
       "array([[ 2825.73613325],\n",
       "       [47249.26801356],\n",
       "       [17762.50546322],\n",
       "       [16176.67168254],\n",
       "       [-1961.85645743],\n",
       "       [34639.17814271],\n",
       "       [13306.2640409 ],\n",
       "       [22682.39377993],\n",
       "       [ 3608.68058753],\n",
       "       [10974.21334742],\n",
       "       [10680.3051257 ],\n",
       "       [ 2858.85346979],\n",
       "       [15180.58004939],\n",
       "       [ 2923.79402664],\n",
       "       [ 3881.86925173],\n",
       "       [22620.43347125],\n",
       "       [22669.46532001],\n",
       "       [39063.83654381],\n",
       "       [ 2237.63837782],\n",
       "       [76064.39670151],\n",
       "       [18920.91745499],\n",
       "       [22407.5536847 ],\n",
       "       [ 3037.68032358],\n",
       "       [ 3500.99812862],\n",
       "       [11277.73528954],\n",
       "       [22363.29493188],\n",
       "       [13497.84138484],\n",
       "       [39190.42483347],\n",
       "       [ 3750.73901067],\n",
       "       [39255.34690293],\n",
       "       [39869.83246719],\n",
       "       [11152.48015431],\n",
       "       [17692.62676325],\n",
       "       [39203.55519651],\n",
       "       [24182.88064324],\n",
       "       [ 2188.06414774],\n",
       "       [ 3489.48242655],\n",
       "       [22659.31116984],\n",
       "       [ 1721.19610915],\n",
       "       [39608.65078367],\n",
       "       [41916.91834123],\n",
       "       [13498.0676918 ],\n",
       "       [ 3713.8631521 ],\n",
       "       [17925.23930596],\n",
       "       [17209.87510392],\n",
       "       [ 3327.99773396],\n",
       "       [22673.8238892 ],\n",
       "       [13489.559012  ],\n",
       "       [15000.12121979],\n",
       "       [39388.25264109],\n",
       "       [22709.08023352],\n",
       "       [17590.04673143],\n",
       "       [17042.45199673],\n",
       "       [ 3631.70561194],\n",
       "       [40114.52581835],\n",
       "       [13490.89032305],\n",
       "       [10944.3831397 ],\n",
       "       [13297.1476491 ],\n",
       "       [44608.99452215],\n",
       "       [41019.07766264],\n",
       "       [13491.08469619],\n",
       "       [13492.17469456],\n",
       "       [22749.0408698 ]])"
      ]
     },
     "execution_count": 142,
     "metadata": {},
     "output_type": "execute_result"
    }
   ],
   "source": [
    "y_pred = lr.predict(X_test)\n",
    "y_pred"
   ]
  },
  {
   "cell_type": "code",
   "execution_count": 143,
   "id": "ad368f1e",
   "metadata": {},
   "outputs": [
    {
     "data": {
      "text/plain": [
       "array([[-1.42275244e+04, -2.05415604e+02,  2.12080306e+04,\n",
       "         4.68665089e+03, -4.48108831e+03, -6.98011290e+03,\n",
       "        -5.63260142e-02,  2.39354279e-08, -1.94636129e-08]])"
      ]
     },
     "execution_count": 143,
     "metadata": {},
     "output_type": "execute_result"
    }
   ],
   "source": [
    "lr.coef_"
   ]
  },
  {
   "cell_type": "code",
   "execution_count": 144,
   "id": "190a5257",
   "metadata": {},
   "outputs": [
    {
     "data": {
      "text/plain": [
       "array([17978.58665412])"
      ]
     },
     "execution_count": 144,
     "metadata": {},
     "output_type": "execute_result"
    }
   ],
   "source": [
    "lr.intercept_"
   ]
  },
  {
   "cell_type": "code",
   "execution_count": 145,
   "id": "9d91aaca",
   "metadata": {},
   "outputs": [],
   "source": [
    "x_range = [i for i in range(len(y_test))]"
   ]
  },
  {
   "cell_type": "code",
   "execution_count": 146,
   "id": "e9712d0a",
   "metadata": {},
   "outputs": [
    {
     "data": {
      "image/png": "[encoded data removed]",
      "text/plain": [
       "<Figure size 720x432 with 1 Axes>"
      ]
     },
     "metadata": {
      "needs_background": "light"
     },
     "output_type": "display_data"
    }
   ],
   "source": [
    "plt.figure(figsize = (10,6))\n",
    "\n",
    "plt.plot(x_range,y_pred)\n",
    "plt.plot(x_range,y_test)\n",
    "\n",
    "plt.legend(['Predicted','Actual'])\n",
    "plt.title('Actual and Predicted based on best fit line')\n",
    "\n",
    "plt.show()"
   ]
  },
  {
   "attachments": {},
   "cell_type": "markdown",
   "id": "2b9d8c14",
   "metadata": {},
   "source": [
    "**Procedure**\n",
    "\n",
    "1. Using feature engineering for categorical column.\n",
    "2. Making the  GDP_per_capita as the target and analysing through the Linear Regression from sklearn Linear Model."
   ]
  },
  {
   "cell_type": "markdown",
   "id": "e377a10c",
   "metadata": {},
   "source": [
    "# 5. Reading Using Metrics <a class=\"anchor\" id=\"chapter5\"></a>"
   ]
  },
  {
   "cell_type": "markdown",
   "id": "377ac217",
   "metadata": {},
   "source": [
    "## 5.1 Reading using SKLearn Metrics <a class=\"anchor\" id=\"chapter5.1\"></a>"
   ]
  },
  {
   "cell_type": "code",
   "execution_count": 147,
   "id": "62fda8ee",
   "metadata": {},
   "outputs": [],
   "source": [
    "from sklearn.metrics import r2_score, mean_squared_error"
   ]
  },
  {
   "cell_type": "code",
   "execution_count": 148,
   "id": "fd029fe2",
   "metadata": {},
   "outputs": [
    {
     "name": "stdout",
     "output_type": "stream",
     "text": [
      "486471039.11244124\n",
      "0.21319687236964635\n"
     ]
    }
   ],
   "source": [
    "print(mean_squared_error(y_test,y_pred))\n",
    "print(r2_score(y_test,y_pred))"
   ]
  },
  {
   "cell_type": "markdown",
   "id": "11fe7cf8",
   "metadata": {},
   "source": [
    "## 5.2 Reading using Statsmodel Metrics <a class=\"anchor\" id=\"chapter5.2\"></a>"
   ]
  },
  {
   "cell_type": "code",
   "execution_count": 149,
   "id": "57ed694a",
   "metadata": {},
   "outputs": [],
   "source": [
    "import statsmodels.formula.api as smf"
   ]
  },
  {
   "cell_type": "code",
   "execution_count": 150,
   "id": "0c3864d0",
   "metadata": {},
   "outputs": [
    {
     "data": {
      "text/plain": [
       "Index(['Continent_Africa', 'Continent_Asia', 'Continent_Europe',\n",
       "       'Continent_North_America', 'Continent_Oceania',\n",
       "       'Continent_South_America', 'Population', 'IMF_GDP', 'UN_GDP',\n",
       "       'GDP_per_capita'],\n",
       "      dtype='object')"
      ]
     },
     "execution_count": 150,
     "metadata": {},
     "output_type": "execute_result"
    }
   ],
   "source": [
    "df.columns"
   ]
  },
  {
   "cell_type": "code",
   "execution_count": 151,
   "id": "1f5a2f9d",
   "metadata": {},
   "outputs": [
    {
     "data": {
      "text/plain": [
       "'Continent_Africa+Continent_Asia+Continent_Europe+Continent_North_America+Continent_Oceania+Continent_South_America+Population+IMF_GDP+UN_GDP'"
      ]
     },
     "execution_count": 151,
     "metadata": {},
     "output_type": "execute_result"
    }
   ],
   "source": [
    "'+'.join(X)"
   ]
  },
  {
   "cell_type": "code",
   "execution_count": 152,
   "id": "3241ae9e",
   "metadata": {},
   "outputs": [],
   "source": [
    "# removing spaces from column names\n"
   ]
  },
  {
   "cell_type": "code",
   "execution_count": 153,
   "id": "24fee6c1",
   "metadata": {},
   "outputs": [
    {
     "name": "stdout",
     "output_type": "stream",
     "text": [
      "                            OLS Regression Results                            \n",
      "==============================================================================\n",
      "Dep. Variable:         GDP_per_capita   R-squared:                       0.294\n",
      "Model:                            OLS   Adj. R-squared:                  0.266\n",
      "Method:                 Least Squares   F-statistic:                     10.46\n",
      "Date:                Mon, 12 Jun 2023   Prob (F-statistic):           3.12e-12\n",
      "Time:                        23:43:21   Log-Likelihood:                -2410.3\n",
      "No. Observations:                 210   AIC:                             4839.\n",
      "Df Residuals:                     201   BIC:                             4869.\n",
      "Df Model:                           8                                         \n",
      "Covariance Type:            nonrobust                                         \n",
      "===========================================================================================\n",
      "                              coef    std err          t      P>|t|      [0.025      0.975]\n",
      "-------------------------------------------------------------------------------------------\n",
      "Intercept                 1.46e+04   1744.880      8.365      0.000    1.12e+04     1.8e+04\n",
      "Continent_Africa        -1.081e+04   3245.573     -3.330      0.001   -1.72e+04   -4406.592\n",
      "Continent_Asia           2874.5277   3583.679      0.802      0.423   -4191.901    9940.956\n",
      "Continent_Europe         2.196e+04   3405.198      6.448      0.000    1.52e+04    2.87e+04\n",
      "Continent_North_America  5505.9195   3892.907      1.414      0.159   -2170.256    1.32e+04\n",
      "Continent_Oceania        -565.9233   5179.600     -0.109      0.913   -1.08e+04    9647.401\n",
      "Continent_South_America -4370.6039   6112.722     -0.715      0.475   -1.64e+04    7682.684\n",
      "Population                 -0.0625      0.020     -3.194      0.002      -0.101      -0.024\n",
      "IMF_GDP                  2.831e-08   1.16e-08      2.447      0.015     5.5e-09    5.11e-08\n",
      "UN_GDP                  -2.458e-08   1.42e-08     -1.734      0.084   -5.25e-08    3.37e-09\n",
      "==============================================================================\n",
      "Omnibus:                      145.816   Durbin-Watson:                   1.748\n",
      "Prob(Omnibus):                  0.000   Jarque-Bera (JB):             1255.304\n",
      "Skew:                           2.672   Prob(JB):                    2.60e-273\n",
      "Kurtosis:                      13.719   Cond. No.                     7.83e+16\n",
      "==============================================================================\n",
      "\n",
      "Notes:\n",
      "[1] Standard Errors assume that the covariance matrix of the errors is correctly specified.\n",
      "[2] The condition number is large, 7.83e+16. This might indicate that there are\n",
      "strong multicollinearity or other numerical problems.\n"
     ]
    }
   ],
   "source": [
    "result = smf.ols(formula = 'GDP_per_capita ~ Continent_Africa+Continent_Asia+Continent_Europe+Continent_North_America+Continent_Oceania+Continent_South_America+Population+IMF_GDP+UN_GDP', data = df).fit()\n",
    "print(result.summary())"
   ]
  },
  {
   "cell_type": "code",
   "execution_count": 154,
   "id": "88028d65",
   "metadata": {},
   "outputs": [
    {
     "name": "stdout",
     "output_type": "stream",
     "text": [
      "                            OLS Regression Results                            \n",
      "==============================================================================\n",
      "Dep. Variable:         GDP_per_capita   R-squared:                       0.278\n",
      "Model:                            OLS   Adj. R-squared:                  0.260\n",
      "Method:                 Least Squares   F-statistic:                     15.72\n",
      "Date:                Mon, 12 Jun 2023   Prob (F-statistic):           4.39e-13\n",
      "Time:                        23:43:21   Log-Likelihood:                -2412.7\n",
      "No. Observations:                 210   AIC:                             4837.\n",
      "Df Residuals:                     204   BIC:                             4857.\n",
      "Df Model:                           5                                         \n",
      "Covariance Type:            nonrobust                                         \n",
      "===========================================================================================\n",
      "                              coef    std err          t      P>|t|      [0.025      0.975]\n",
      "-------------------------------------------------------------------------------------------\n",
      "Intercept                1.557e+04   2972.178      5.240      0.000    9714.556    2.14e+04\n",
      "Continent_Africa        -1.199e+04   4368.521     -2.745      0.007   -2.06e+04   -3376.419\n",
      "Continent_Europe         2.114e+04   4485.055      4.714      0.000    1.23e+04       3e+04\n",
      "Continent_North_America  4619.1954   5080.898      0.909      0.364   -5398.612    1.46e+04\n",
      "Population                 -0.0489      0.018     -2.676      0.008      -0.085      -0.013\n",
      "IMF_GDP                   8.88e-09   2.68e-09      3.318      0.001     3.6e-09    1.42e-08\n",
      "==============================================================================\n",
      "Omnibus:                      143.775   Durbin-Watson:                   1.716\n",
      "Prob(Omnibus):                  0.000   Jarque-Bera (JB):             1164.669\n",
      "Skew:                           2.651   Prob(JB):                    1.25e-253\n",
      "Kurtosis:                      13.247   Cond. No.                     3.18e+12\n",
      "==============================================================================\n",
      "\n",
      "Notes:\n",
      "[1] Standard Errors assume that the covariance matrix of the errors is correctly specified.\n",
      "[2] The condition number is large, 3.18e+12. This might indicate that there are\n",
      "strong multicollinearity or other numerical problems.\n"
     ]
    }
   ],
   "source": [
    "result1 = smf.ols(formula = 'GDP_per_capita ~ Continent_Africa+Continent_Europe+Continent_North_America+Population+IMF_GDP', data = df).fit()\n",
    "print(result1.summary())"
   ]
  },
  {
   "cell_type": "code",
   "execution_count": 155,
   "id": "f65d4edf",
   "metadata": {},
   "outputs": [
    {
     "name": "stdout",
     "output_type": "stream",
     "text": [
      "                            OLS Regression Results                            \n",
      "==============================================================================\n",
      "Dep. Variable:                IMF_GDP   R-squared:                       0.951\n",
      "Model:                            OLS   Adj. R-squared:                  0.951\n",
      "Method:                 Least Squares   F-statistic:                     4073.\n",
      "Date:                Mon, 12 Jun 2023   Prob (F-statistic):          1.41e-138\n",
      "Time:                        23:43:21   Log-Likelihood:                -5718.6\n",
      "No. Observations:                 210   AIC:                         1.144e+04\n",
      "Df Residuals:                     208   BIC:                         1.145e+04\n",
      "Df Model:                           1                                         \n",
      "Covariance Type:            nonrobust                                         \n",
      "==============================================================================\n",
      "                 coef    std err          t      P>|t|      [0.025      0.975]\n",
      "------------------------------------------------------------------------------\n",
      "Intercept   2.465e+10    1.2e+10      2.051      0.042    9.53e+08    4.83e+10\n",
      "UN_GDP         1.2554      0.020     63.821      0.000       1.217       1.294\n",
      "==============================================================================\n",
      "Omnibus:                      189.214   Durbin-Watson:                   1.493\n",
      "Prob(Omnibus):                  0.000   Jarque-Bera (JB):             8262.631\n",
      "Skew:                           3.058   Prob(JB):                         0.00\n",
      "Kurtosis:                      33.115   Cond. No.                     6.53e+11\n",
      "==============================================================================\n",
      "\n",
      "Notes:\n",
      "[1] Standard Errors assume that the covariance matrix of the errors is correctly specified.\n",
      "[2] The condition number is large, 6.53e+11. This might indicate that there are\n",
      "strong multicollinearity or other numerical problems.\n"
     ]
    }
   ],
   "source": [
    "result2 = smf.ols(formula = 'IMF_GDP ~ UN_GDP', data = df).fit()\n",
    "print(result2.summary())"
   ]
  },
  {
   "cell_type": "code",
   "execution_count": 156,
   "id": "db6c0a0e",
   "metadata": {},
   "outputs": [
    {
     "name": "stdout",
     "output_type": "stream",
     "text": [
      "                            OLS Regression Results                            \n",
      "==============================================================================\n",
      "Dep. Variable:             Population   R-squared:                       0.234\n",
      "Model:                            OLS   Adj. R-squared:                  0.231\n",
      "Method:                 Least Squares   F-statistic:                     63.63\n",
      "Date:                Mon, 12 Jun 2023   Prob (F-statistic):           9.90e-14\n",
      "Time:                        23:43:21   Log-Likelihood:                -2699.0\n",
      "No. Observations:                 210   AIC:                             5402.\n",
      "Df Residuals:                     208   BIC:                             5409.\n",
      "Df Model:                           1                                         \n",
      "Covariance Type:            nonrobust                                         \n",
      "==============================================================================\n",
      "                 coef    std err          t      P>|t|      [0.025      0.975]\n",
      "------------------------------------------------------------------------------\n",
      "Intercept   9410.3619   6898.333      1.364      0.174   -4189.252     2.3e+04\n",
      "IMF_GDP      6.94e-08    8.7e-09      7.977      0.000    5.22e-08    8.66e-08\n",
      "==============================================================================\n",
      "Omnibus:                      371.251   Durbin-Watson:                   2.394\n",
      "Prob(Omnibus):                  0.000   Jarque-Bera (JB):           112932.976\n",
      "Skew:                           9.046   Prob(JB):                         0.00\n",
      "Kurtosis:                     115.157   Cond. No.                     8.54e+11\n",
      "==============================================================================\n",
      "\n",
      "Notes:\n",
      "[1] Standard Errors assume that the covariance matrix of the errors is correctly specified.\n",
      "[2] The condition number is large, 8.54e+11. This might indicate that there are\n",
      "strong multicollinearity or other numerical problems.\n"
     ]
    }
   ],
   "source": [
    "result4 = smf.ols(formula = 'Population ~ IMF_GDP', data = df).fit()\n",
    "print(result4.summary())"
   ]
  },
  {
   "cell_type": "code",
   "execution_count": 157,
   "id": "139966ca",
   "metadata": {},
   "outputs": [
    {
     "name": "stdout",
     "output_type": "stream",
     "text": [
      "                            OLS Regression Results                            \n",
      "==============================================================================\n",
      "Dep. Variable:             Population   R-squared:                       0.163\n",
      "Model:                            OLS   Adj. R-squared:                  0.159\n",
      "Method:                 Least Squares   F-statistic:                     40.49\n",
      "Date:                Mon, 12 Jun 2023   Prob (F-statistic):           1.24e-09\n",
      "Time:                        23:43:21   Log-Likelihood:                -2708.3\n",
      "No. Observations:                 210   AIC:                             5421.\n",
      "Df Residuals:                     208   BIC:                             5427.\n",
      "Df Model:                           1                                         \n",
      "Covariance Type:            nonrobust                                         \n",
      "==============================================================================\n",
      "                 coef    std err          t      P>|t|      [0.025      0.975]\n",
      "------------------------------------------------------------------------------\n",
      "Intercept   1.384e+04   7153.570      1.935      0.054    -262.572    2.79e+04\n",
      "UN_GDP       7.45e-08   1.17e-08      6.364      0.000    5.14e-08    9.76e-08\n",
      "==============================================================================\n",
      "Omnibus:                      395.470   Durbin-Watson:                   2.317\n",
      "Prob(Omnibus):                  0.000   Jarque-Bera (JB):           151348.210\n",
      "Skew:                          10.224   Prob(JB):                         0.00\n",
      "Kurtosis:                     132.918   Cond. No.                     6.53e+11\n",
      "==============================================================================\n",
      "\n",
      "Notes:\n",
      "[1] Standard Errors assume that the covariance matrix of the errors is correctly specified.\n",
      "[2] The condition number is large, 6.53e+11. This might indicate that there are\n",
      "strong multicollinearity or other numerical problems.\n"
     ]
    }
   ],
   "source": [
    "result5 = smf.ols(formula = 'Population ~ UN_GDP', data = df).fit()\n",
    "print(result5.summary())"
   ]
  },
  {
   "cell_type": "code",
   "execution_count": 158,
   "id": "d62446a2",
   "metadata": {},
   "outputs": [
    {
     "name": "stdout",
     "output_type": "stream",
     "text": [
      "                            OLS Regression Results                            \n",
      "==============================================================================\n",
      "Dep. Variable:                IMF_GDP   R-squared:                       0.951\n",
      "Model:                            OLS   Adj. R-squared:                  0.951\n",
      "Method:                 Least Squares   F-statistic:                     4073.\n",
      "Date:                Mon, 12 Jun 2023   Prob (F-statistic):          1.41e-138\n",
      "Time:                        23:43:21   Log-Likelihood:                -5718.6\n",
      "No. Observations:                 210   AIC:                         1.144e+04\n",
      "Df Residuals:                     208   BIC:                         1.145e+04\n",
      "Df Model:                           1                                         \n",
      "Covariance Type:            nonrobust                                         \n",
      "==============================================================================\n",
      "                 coef    std err          t      P>|t|      [0.025      0.975]\n",
      "------------------------------------------------------------------------------\n",
      "Intercept   2.465e+10    1.2e+10      2.051      0.042    9.53e+08    4.83e+10\n",
      "UN_GDP         1.2554      0.020     63.821      0.000       1.217       1.294\n",
      "==============================================================================\n",
      "Omnibus:                      189.214   Durbin-Watson:                   1.493\n",
      "Prob(Omnibus):                  0.000   Jarque-Bera (JB):             8262.631\n",
      "Skew:                           3.058   Prob(JB):                         0.00\n",
      "Kurtosis:                      33.115   Cond. No.                     6.53e+11\n",
      "==============================================================================\n",
      "\n",
      "Notes:\n",
      "[1] Standard Errors assume that the covariance matrix of the errors is correctly specified.\n",
      "[2] The condition number is large, 6.53e+11. This might indicate that there are\n",
      "strong multicollinearity or other numerical problems.\n"
     ]
    }
   ],
   "source": [
    "result3 = smf.ols(formula = 'IMF_GDP ~ UN_GDP', data = df).fit()\n",
    "print(result3.summary())"
   ]
  },
  {
   "cell_type": "markdown",
   "id": "7ac5b15d",
   "metadata": {},
   "source": [
    "## 6. Conclusion <a class=\"anchor\" id=\"chapter6\"></a>"
   ]
  },
  {
   "attachments": {},
   "cell_type": "markdown",
   "id": "5cb9afbb",
   "metadata": {},
   "source": [
    "**Takeaways**\n",
    "\n",
    "The probability of finding the target in the table, as indicated by the sklearn results, appears to be very low. On the other hand, the correlation matrix in Stats model provides evidence supporting the statement that there is a strong relationship between IMF_GDP and UN_GDP, as indicated by an R-squared value of 0.951."
   ]
  },
  {
   "cell_type": "markdown",
   "id": "eaabddf1",
   "metadata": {},
   "source": [
    "# Thank You"
   ]
  }
 ],
 "metadata": {
  "kernelspec": {
   "display_name": "Python 3 (ipykernel)",
   "language": "python",
   "name": "python3"
  },
  "language_info": {
   "codemirror_mode": {
    "name": "ipython",
    "version": 3
   },
   "file_extension": ".py",
   "mimetype": "text/x-python",
   "name": "python",
   "nbconvert_exporter": "python",
   "pygments_lexer": "ipython3",
   "version": "3.9.12"
  }
 },
 "nbformat": 4,
 "nbformat_minor": 5
}
